{
 "cells": [
  {
   "cell_type": "markdown",
   "metadata": {},
   "source": [
    "# Query Segmentation in PyTerrier from TIREx executions"
   ]
  },
  {
   "cell_type": "markdown",
   "metadata": {},
   "source": [
    "### Setup the environment"
   ]
  },
  {
   "cell_type": "code",
   "execution_count": 1,
   "metadata": {},
   "outputs": [
    {
     "name": "stderr",
     "output_type": "stream",
     "text": [
      "PyTerrier 0.9.2 has loaded Terrier 5.7 (built by craigm on 2022-11-10 18:30) and terrier-helper 0.0.7\n",
      "\n",
      "No etc/terrier.properties, using terrier.default.properties for bootstrap configuration.\n"
     ]
    }
   ],
   "source": [
    "from tira.local_client import Client\n",
    "import pyterrier as pt\n",
    "import pandas as pd\n",
    "\n",
    "tira = Client()\n",
    "\n",
    "if not pt.started():\n",
    "  pt.init()\n",
    "\n",
    "dataset = \"trec-robust-2004\"\n",
    "pt_dataset = pt.get_dataset(dataset)\n"
   ]
  },
  {
   "cell_type": "code",
   "execution_count": 3,
   "metadata": {},
   "outputs": [
    {
     "data": {
      "text/html": [
       "<div>\n",
       "<style scoped>\n",
       "    .dataframe tbody tr th:only-of-type {\n",
       "        vertical-align: middle;\n",
       "    }\n",
       "\n",
       "    .dataframe tbody tr th {\n",
       "        vertical-align: top;\n",
       "    }\n",
       "\n",
       "    .dataframe thead th {\n",
       "        text-align: right;\n",
       "    }\n",
       "</style>\n",
       "<table border=\"1\" class=\"dataframe\">\n",
       "  <thead>\n",
       "    <tr style=\"text-align: right;\">\n",
       "      <th></th>\n",
       "      <th>qid</th>\n",
       "      <th>query</th>\n",
       "    </tr>\n",
       "  </thead>\n",
       "  <tbody>\n",
       "    <tr>\n",
       "      <th>2</th>\n",
       "      <td>303</td>\n",
       "      <td>hubble telescope achievements</td>\n",
       "    </tr>\n",
       "  </tbody>\n",
       "</table>\n",
       "</div>"
      ],
      "text/plain": [
       "   qid                          query\n",
       "2  303  hubble telescope achievements"
      ]
     },
     "execution_count": 3,
     "metadata": {},
     "output_type": "execute_result"
    }
   ],
   "source": [
    "# Some Dev topics\n",
    "dev_topics = pt_dataset.get_topics()\n",
    "dev_topics = dev_topics[dev_topics['qid'].astype(int) == 303]\n",
    "dev_topics"
   ]
  },
  {
   "cell_type": "markdown",
   "metadata": {},
   "source": [
    "### Prepare Retrieval Components"
   ]
  },
  {
   "cell_type": "code",
   "execution_count": 5,
   "metadata": {},
   "outputs": [],
   "source": [
    "bm25 = tira.pt.from_retriever_submission(\"ir-benchmarks/tira-ir-starter/PyTerrierBM25\", dataset)"
   ]
  },
  {
   "cell_type": "code",
   "execution_count": 6,
   "metadata": {},
   "outputs": [],
   "source": [
    "bm25_score = pt.text.scorer(takes=\"docs\", body_attr=\"text\", wmodel=\"BM25\")\n",
    "bm25_retrieval = bm25 >> bm25_score"
   ]
  },
  {
   "cell_type": "code",
   "execution_count": 8,
   "metadata": {},
   "outputs": [
    {
     "data": {
      "text/html": [
       "<div>\n",
       "<style scoped>\n",
       "    .dataframe tbody tr th:only-of-type {\n",
       "        vertical-align: middle;\n",
       "    }\n",
       "\n",
       "    .dataframe tbody tr th {\n",
       "        vertical-align: top;\n",
       "    }\n",
       "\n",
       "    .dataframe thead th {\n",
       "        text-align: right;\n",
       "    }\n",
       "</style>\n",
       "<table border=\"1\" class=\"dataframe\">\n",
       "  <thead>\n",
       "    <tr style=\"text-align: right;\">\n",
       "      <th></th>\n",
       "      <th>qid</th>\n",
       "      <th>docno</th>\n",
       "      <th>label</th>\n",
       "    </tr>\n",
       "  </thead>\n",
       "  <tbody>\n",
       "    <tr>\n",
       "      <th>2386</th>\n",
       "      <td>303</td>\n",
       "      <td>FBIS3-16217</td>\n",
       "      <td>0</td>\n",
       "    </tr>\n",
       "    <tr>\n",
       "      <th>2387</th>\n",
       "      <td>303</td>\n",
       "      <td>FBIS3-19093</td>\n",
       "      <td>0</td>\n",
       "    </tr>\n",
       "    <tr>\n",
       "      <th>2388</th>\n",
       "      <td>303</td>\n",
       "      <td>FBIS3-21007</td>\n",
       "      <td>0</td>\n",
       "    </tr>\n",
       "    <tr>\n",
       "      <th>2389</th>\n",
       "      <td>303</td>\n",
       "      <td>FBIS3-21026</td>\n",
       "      <td>0</td>\n",
       "    </tr>\n",
       "    <tr>\n",
       "      <th>2390</th>\n",
       "      <td>303</td>\n",
       "      <td>FBIS3-23561</td>\n",
       "      <td>0</td>\n",
       "    </tr>\n",
       "    <tr>\n",
       "      <th>...</th>\n",
       "      <td>...</td>\n",
       "      <td>...</td>\n",
       "      <td>...</td>\n",
       "    </tr>\n",
       "    <tr>\n",
       "      <th>3142</th>\n",
       "      <td>303</td>\n",
       "      <td>LA122589-0068</td>\n",
       "      <td>0</td>\n",
       "    </tr>\n",
       "    <tr>\n",
       "      <th>3143</th>\n",
       "      <td>303</td>\n",
       "      <td>LA122590-0113</td>\n",
       "      <td>0</td>\n",
       "    </tr>\n",
       "    <tr>\n",
       "      <th>3144</th>\n",
       "      <td>303</td>\n",
       "      <td>LA122790-0152</td>\n",
       "      <td>0</td>\n",
       "    </tr>\n",
       "    <tr>\n",
       "      <th>3145</th>\n",
       "      <td>303</td>\n",
       "      <td>LA122990-0029</td>\n",
       "      <td>1</td>\n",
       "    </tr>\n",
       "    <tr>\n",
       "      <th>3146</th>\n",
       "      <td>303</td>\n",
       "      <td>LA122990-0030</td>\n",
       "      <td>0</td>\n",
       "    </tr>\n",
       "  </tbody>\n",
       "</table>\n",
       "<p>761 rows × 3 columns</p>\n",
       "</div>"
      ],
      "text/plain": [
       "      qid          docno  label\n",
       "2386  303    FBIS3-16217      0\n",
       "2387  303    FBIS3-19093      0\n",
       "2388  303    FBIS3-21007      0\n",
       "2389  303    FBIS3-21026      0\n",
       "2390  303    FBIS3-23561      0\n",
       "...   ...            ...    ...\n",
       "3142  303  LA122589-0068      0\n",
       "3143  303  LA122590-0113      0\n",
       "3144  303  LA122790-0152      0\n",
       "3145  303  LA122990-0029      1\n",
       "3146  303  LA122990-0030      0\n",
       "\n",
       "[761 rows x 3 columns]"
      ]
     },
     "execution_count": 8,
     "metadata": {},
     "output_type": "execute_result"
    }
   ],
   "source": [
    "dev_qrels =  pt_dataset.get_qrels()\n",
    "dev_qrels = dev_qrels[dev_qrels['qid'].astype(int) == 303]\n",
    "dev_qrels"
   ]
  },
  {
   "cell_type": "code",
   "execution_count": 9,
   "metadata": {},
   "outputs": [
    {
     "data": {
      "text/html": [
       "<div>\n",
       "<style scoped>\n",
       "    .dataframe tbody tr th:only-of-type {\n",
       "        vertical-align: middle;\n",
       "    }\n",
       "\n",
       "    .dataframe tbody tr th {\n",
       "        vertical-align: top;\n",
       "    }\n",
       "\n",
       "    .dataframe thead th {\n",
       "        text-align: right;\n",
       "    }\n",
       "</style>\n",
       "<table border=\"1\" class=\"dataframe\">\n",
       "  <thead>\n",
       "    <tr style=\"text-align: right;\">\n",
       "      <th></th>\n",
       "      <th>qid</th>\n",
       "      <th>docno</th>\n",
       "      <th>label</th>\n",
       "    </tr>\n",
       "  </thead>\n",
       "  <tbody>\n",
       "    <tr>\n",
       "      <th>2519</th>\n",
       "      <td>303</td>\n",
       "      <td>FT921-7107</td>\n",
       "      <td>1</td>\n",
       "    </tr>\n",
       "    <tr>\n",
       "      <th>2595</th>\n",
       "      <td>303</td>\n",
       "      <td>FT924-286</td>\n",
       "      <td>1</td>\n",
       "    </tr>\n",
       "    <tr>\n",
       "      <th>2627</th>\n",
       "      <td>303</td>\n",
       "      <td>FT931-6554</td>\n",
       "      <td>1</td>\n",
       "    </tr>\n",
       "    <tr>\n",
       "      <th>2731</th>\n",
       "      <td>303</td>\n",
       "      <td>FT941-15661</td>\n",
       "      <td>1</td>\n",
       "    </tr>\n",
       "    <tr>\n",
       "      <th>2739</th>\n",
       "      <td>303</td>\n",
       "      <td>FT941-17652</td>\n",
       "      <td>1</td>\n",
       "    </tr>\n",
       "    <tr>\n",
       "      <th>2818</th>\n",
       "      <td>303</td>\n",
       "      <td>FT944-128</td>\n",
       "      <td>1</td>\n",
       "    </tr>\n",
       "    <tr>\n",
       "      <th>2918</th>\n",
       "      <td>303</td>\n",
       "      <td>LA051290-0079</td>\n",
       "      <td>1</td>\n",
       "    </tr>\n",
       "    <tr>\n",
       "      <th>3109</th>\n",
       "      <td>303</td>\n",
       "      <td>LA110590-0076</td>\n",
       "      <td>1</td>\n",
       "    </tr>\n",
       "    <tr>\n",
       "      <th>3119</th>\n",
       "      <td>303</td>\n",
       "      <td>LA112190-0043</td>\n",
       "      <td>1</td>\n",
       "    </tr>\n",
       "    <tr>\n",
       "      <th>3145</th>\n",
       "      <td>303</td>\n",
       "      <td>LA122990-0029</td>\n",
       "      <td>1</td>\n",
       "    </tr>\n",
       "  </tbody>\n",
       "</table>\n",
       "</div>"
      ],
      "text/plain": [
       "      qid          docno  label\n",
       "2519  303     FT921-7107      1\n",
       "2595  303      FT924-286      1\n",
       "2627  303     FT931-6554      1\n",
       "2731  303    FT941-15661      1\n",
       "2739  303    FT941-17652      1\n",
       "2818  303      FT944-128      1\n",
       "2918  303  LA051290-0079      1\n",
       "3109  303  LA110590-0076      1\n",
       "3119  303  LA112190-0043      1\n",
       "3145  303  LA122990-0029      1"
      ]
     },
     "execution_count": 9,
     "metadata": {},
     "output_type": "execute_result"
    }
   ],
   "source": [
    "dev_qrels[dev_qrels['label'] > 0]"
   ]
  },
  {
   "cell_type": "code",
   "execution_count": 23,
   "metadata": {},
   "outputs": [
    {
     "name": "stdout",
     "output_type": "stream",
     "text": [
      "11:53:50.468 [main] WARN org.terrier.querying.ApplyTermPipeline - The index has no termpipelines configuration, and no control configuration is found. Defaulting to global termpipelines configuration of 'Stopwords,PorterStemmer'. Set a termpipelines control to remove this warning.\n"
     ]
    },
    {
     "data": {
      "text/html": [
       "<div>\n",
       "<style scoped>\n",
       "    .dataframe tbody tr th:only-of-type {\n",
       "        vertical-align: middle;\n",
       "    }\n",
       "\n",
       "    .dataframe tbody tr th {\n",
       "        vertical-align: top;\n",
       "    }\n",
       "\n",
       "    .dataframe thead th {\n",
       "        text-align: right;\n",
       "    }\n",
       "</style>\n",
       "<table border=\"1\" class=\"dataframe\">\n",
       "  <thead>\n",
       "    <tr style=\"text-align: right;\">\n",
       "      <th></th>\n",
       "      <th>name</th>\n",
       "      <th>recip_rank</th>\n",
       "      <th>P_3</th>\n",
       "      <th>P_5</th>\n",
       "      <th>P_10</th>\n",
       "      <th>ndcg_cut_10</th>\n",
       "      <th>ndcg_cut_5</th>\n",
       "    </tr>\n",
       "  </thead>\n",
       "  <tbody>\n",
       "    <tr>\n",
       "      <th>0</th>\n",
       "      <td>BM25</td>\n",
       "      <td>0.052632</td>\n",
       "      <td>0.0</td>\n",
       "      <td>0.0</td>\n",
       "      <td>0.0</td>\n",
       "      <td>0.0</td>\n",
       "      <td>0.0</td>\n",
       "    </tr>\n",
       "  </tbody>\n",
       "</table>\n",
       "</div>"
      ],
      "text/plain": [
       "   name  recip_rank  P_3  P_5  P_10  ndcg_cut_10  ndcg_cut_5\n",
       "0  BM25    0.052632  0.0  0.0   0.0          0.0         0.0"
      ]
     },
     "execution_count": 23,
     "metadata": {},
     "output_type": "execute_result"
    }
   ],
   "source": [
    "pt.Experiment([bm25_retrieval], dev_topics, dev_qrels, eval_metrics=[\"recip_rank\", \"P_3\", \"P_5\", \"P_10\", \"ndcg_cut_10\", \"ndcg_cut_5\"], names=['BM25'])"
   ]
  },
  {
   "cell_type": "code",
   "execution_count": 49,
   "metadata": {},
   "outputs": [
    {
     "name": "stdout",
     "output_type": "stream",
     "text": [
      "12:56:09.343 [main] WARN org.terrier.querying.ApplyTermPipeline - The index has no termpipelines configuration, and no control configuration is found. Defaulting to global termpipelines configuration of 'Stopwords,PorterStemmer'. Set a termpipelines control to remove this warning.\n"
     ]
    },
    {
     "data": {
      "text/html": [
       "<div>\n",
       "<style scoped>\n",
       "    .dataframe tbody tr th:only-of-type {\n",
       "        vertical-align: middle;\n",
       "    }\n",
       "\n",
       "    .dataframe tbody tr th {\n",
       "        vertical-align: top;\n",
       "    }\n",
       "\n",
       "    .dataframe thead th {\n",
       "        text-align: right;\n",
       "    }\n",
       "</style>\n",
       "<table border=\"1\" class=\"dataframe\">\n",
       "  <thead>\n",
       "    <tr style=\"text-align: right;\">\n",
       "      <th></th>\n",
       "      <th>name</th>\n",
       "      <th>recip_rank</th>\n",
       "      <th>P_3</th>\n",
       "      <th>P_5</th>\n",
       "      <th>P_10</th>\n",
       "      <th>ndcg_cut_10</th>\n",
       "      <th>ndcg_cut_5</th>\n",
       "    </tr>\n",
       "  </thead>\n",
       "  <tbody>\n",
       "    <tr>\n",
       "      <th>0</th>\n",
       "      <td>BM25</td>\n",
       "      <td>1.0</td>\n",
       "      <td>0.333333</td>\n",
       "      <td>0.4</td>\n",
       "      <td>0.2</td>\n",
       "      <td>0.31488</td>\n",
       "      <td>0.485229</td>\n",
       "    </tr>\n",
       "  </tbody>\n",
       "</table>\n",
       "</div>"
      ],
      "text/plain": [
       "   name  recip_rank       P_3  P_5  P_10  ndcg_cut_10  ndcg_cut_5\n",
       "0  BM25         1.0  0.333333  0.4   0.2      0.31488    0.485229"
      ]
     },
     "execution_count": 49,
     "metadata": {},
     "output_type": "execute_result"
    }
   ],
   "source": [
    "phrase_search = (bm25_retrieval >> pt.apply.doc_score(lambda i: i['text'].lower().count(i['query']) ))\n",
    "\n",
    "dev_topics = pd.DataFrame([{'qid': '303', 'query': 'hubble telescope'}])\n",
    "\n",
    "pt.Experiment([phrase_search], dev_topics, dev_qrels, eval_metrics=[\"recip_rank\", \"P_3\", \"P_5\", \"P_10\", \"ndcg_cut_10\", \"ndcg_cut_5\"], names=['BM25'])"
   ]
  },
  {
   "cell_type": "code",
   "execution_count": null,
   "metadata": {},
   "outputs": [],
   "source": [
    "\n",
    "\n",
    "pt.Experiment([phrase_search], dev_topics, dev_qrels, eval_metrics=[\"recip_rank\", \"P_3\", \"P_5\", \"P_10\", \"ndcg_cut_10\", \"ndcg_cut_5\"], names=['BM25'])"
   ]
  },
  {
   "cell_type": "code",
   "execution_count": 11,
   "metadata": {},
   "outputs": [],
   "source": [
    "wt_query_segmentation = tira.pt.transform_queries('ir-benchmarks/webis-query-segmentation/wt-snp-baseline', dataset)\n",
    "hyp_a_query_segmentation = tira.pt.transform_queries('ir-benchmarks/webis-query-segmentation/hyb-a', dataset)"
   ]
  },
  {
   "cell_type": "markdown",
   "metadata": {},
   "source": [
    "### Setup Retrieval Pipelines"
   ]
  },
  {
   "cell_type": "code",
   "execution_count": 12,
   "metadata": {},
   "outputs": [
    {
     "data": {
      "text/html": [
       "<div>\n",
       "<style scoped>\n",
       "    .dataframe tbody tr th:only-of-type {\n",
       "        vertical-align: middle;\n",
       "    }\n",
       "\n",
       "    .dataframe tbody tr th {\n",
       "        vertical-align: top;\n",
       "    }\n",
       "\n",
       "    .dataframe thead th {\n",
       "        text-align: right;\n",
       "    }\n",
       "</style>\n",
       "<table border=\"1\" class=\"dataframe\">\n",
       "  <thead>\n",
       "    <tr style=\"text-align: right;\">\n",
       "      <th></th>\n",
       "      <th>query</th>\n",
       "      <th>segmentation</th>\n",
       "    </tr>\n",
       "  </thead>\n",
       "  <tbody>\n",
       "    <tr>\n",
       "      <th>0</th>\n",
       "      <td>international organized crime</td>\n",
       "      <td>[international organized crime]</td>\n",
       "    </tr>\n",
       "    <tr>\n",
       "      <th>1</th>\n",
       "      <td>poliomyelitis and post polio</td>\n",
       "      <td>[poliomyelitis, and, post-polio]</td>\n",
       "    </tr>\n",
       "    <tr>\n",
       "      <th>2</th>\n",
       "      <td>hubble telescope achievements</td>\n",
       "      <td>[hubble telescope achievements]</td>\n",
       "    </tr>\n",
       "    <tr>\n",
       "      <th>3</th>\n",
       "      <td>endangered species mammals</td>\n",
       "      <td>[endangered species, mammals]</td>\n",
       "    </tr>\n",
       "    <tr>\n",
       "      <th>4</th>\n",
       "      <td>most dangerous vehicles</td>\n",
       "      <td>[most, dangerous vehicles]</td>\n",
       "    </tr>\n",
       "    <tr>\n",
       "      <th>5</th>\n",
       "      <td>african civilian deaths</td>\n",
       "      <td>[african, civilian deaths]</td>\n",
       "    </tr>\n",
       "    <tr>\n",
       "      <th>6</th>\n",
       "      <td>new hydroelectric projects</td>\n",
       "      <td>[new hydroelectric projects]</td>\n",
       "    </tr>\n",
       "    <tr>\n",
       "      <th>7</th>\n",
       "      <td>implant dentistry</td>\n",
       "      <td>[implant, dentistry]</td>\n",
       "    </tr>\n",
       "    <tr>\n",
       "      <th>8</th>\n",
       "      <td>rap and crime</td>\n",
       "      <td>[rap, and, crime]</td>\n",
       "    </tr>\n",
       "    <tr>\n",
       "      <th>9</th>\n",
       "      <td>radio waves and brain cancer</td>\n",
       "      <td>[radio waves, and, brain cancer]</td>\n",
       "    </tr>\n",
       "  </tbody>\n",
       "</table>\n",
       "</div>"
      ],
      "text/plain": [
       "                           query                      segmentation\n",
       "0  international organized crime   [international organized crime]\n",
       "1   poliomyelitis and post polio  [poliomyelitis, and, post-polio]\n",
       "2  hubble telescope achievements   [hubble telescope achievements]\n",
       "3     endangered species mammals     [endangered species, mammals]\n",
       "4        most dangerous vehicles        [most, dangerous vehicles]\n",
       "5        african civilian deaths        [african, civilian deaths]\n",
       "6     new hydroelectric projects      [new hydroelectric projects]\n",
       "7              implant dentistry              [implant, dentistry]\n",
       "8                  rap and crime                 [rap, and, crime]\n",
       "9   radio waves and brain cancer  [radio waves, and, brain cancer]"
      ]
     },
     "execution_count": 12,
     "metadata": {},
     "output_type": "execute_result"
    }
   ],
   "source": [
    "wt_query_segmentation(dev_topics)[['query', 'segmentation']]"
   ]
  },
  {
   "cell_type": "code",
   "execution_count": 13,
   "metadata": {},
   "outputs": [
    {
     "data": {
      "text/html": [
       "<div>\n",
       "<style scoped>\n",
       "    .dataframe tbody tr th:only-of-type {\n",
       "        vertical-align: middle;\n",
       "    }\n",
       "\n",
       "    .dataframe tbody tr th {\n",
       "        vertical-align: top;\n",
       "    }\n",
       "\n",
       "    .dataframe thead th {\n",
       "        text-align: right;\n",
       "    }\n",
       "</style>\n",
       "<table border=\"1\" class=\"dataframe\">\n",
       "  <thead>\n",
       "    <tr style=\"text-align: right;\">\n",
       "      <th></th>\n",
       "      <th>query</th>\n",
       "      <th>segmentation</th>\n",
       "    </tr>\n",
       "  </thead>\n",
       "  <tbody>\n",
       "    <tr>\n",
       "      <th>0</th>\n",
       "      <td>international organized crime</td>\n",
       "      <td>[international, organized crime]</td>\n",
       "    </tr>\n",
       "    <tr>\n",
       "      <th>1</th>\n",
       "      <td>poliomyelitis and post polio</td>\n",
       "      <td>[poliomyelitis, and, post-polio]</td>\n",
       "    </tr>\n",
       "    <tr>\n",
       "      <th>2</th>\n",
       "      <td>hubble telescope achievements</td>\n",
       "      <td>[hubble telescope, achievements]</td>\n",
       "    </tr>\n",
       "    <tr>\n",
       "      <th>3</th>\n",
       "      <td>endangered species mammals</td>\n",
       "      <td>[endangered species, mammals]</td>\n",
       "    </tr>\n",
       "    <tr>\n",
       "      <th>4</th>\n",
       "      <td>most dangerous vehicles</td>\n",
       "      <td>[most, dangerous, vehicles]</td>\n",
       "    </tr>\n",
       "    <tr>\n",
       "      <th>5</th>\n",
       "      <td>african civilian deaths</td>\n",
       "      <td>[african, civilian deaths]</td>\n",
       "    </tr>\n",
       "    <tr>\n",
       "      <th>6</th>\n",
       "      <td>new hydroelectric projects</td>\n",
       "      <td>[new, hydroelectric projects]</td>\n",
       "    </tr>\n",
       "    <tr>\n",
       "      <th>7</th>\n",
       "      <td>implant dentistry</td>\n",
       "      <td>[implant, dentistry]</td>\n",
       "    </tr>\n",
       "    <tr>\n",
       "      <th>8</th>\n",
       "      <td>rap and crime</td>\n",
       "      <td>[rap, and, crime]</td>\n",
       "    </tr>\n",
       "    <tr>\n",
       "      <th>9</th>\n",
       "      <td>radio waves and brain cancer</td>\n",
       "      <td>[radio waves, and, brain cancer]</td>\n",
       "    </tr>\n",
       "  </tbody>\n",
       "</table>\n",
       "</div>"
      ],
      "text/plain": [
       "                           query                      segmentation\n",
       "0  international organized crime  [international, organized crime]\n",
       "1   poliomyelitis and post polio  [poliomyelitis, and, post-polio]\n",
       "2  hubble telescope achievements  [hubble telescope, achievements]\n",
       "3     endangered species mammals     [endangered species, mammals]\n",
       "4        most dangerous vehicles       [most, dangerous, vehicles]\n",
       "5        african civilian deaths        [african, civilian deaths]\n",
       "6     new hydroelectric projects     [new, hydroelectric projects]\n",
       "7              implant dentistry              [implant, dentistry]\n",
       "8                  rap and crime                 [rap, and, crime]\n",
       "9   radio waves and brain cancer  [radio waves, and, brain cancer]"
      ]
     },
     "execution_count": 13,
     "metadata": {},
     "output_type": "execute_result"
    }
   ],
   "source": [
    "hyp_a_query_segmentation(dev_topics)[['query', 'segmentation']]"
   ]
  }
 ],
 "metadata": {
  "kernelspec": {
   "display_name": "base",
   "language": "python",
   "name": "python3"
  },
  "language_info": {
   "codemirror_mode": {
    "name": "ipython",
    "version": 3
   },
   "file_extension": ".py",
   "mimetype": "text/x-python",
   "name": "python",
   "nbconvert_exporter": "python",
   "pygments_lexer": "ipython3",
   "version": "3.7.13"
  },
  "orig_nbformat": 4
 },
 "nbformat": 4,
 "nbformat_minor": 2
}
