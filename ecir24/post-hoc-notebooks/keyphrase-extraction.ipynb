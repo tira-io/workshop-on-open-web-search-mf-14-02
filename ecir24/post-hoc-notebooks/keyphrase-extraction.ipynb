{
 "cells": [
  {
   "cell_type": "markdown",
   "metadata": {},
   "source": [
    "# Keyphrase Extraction in PyTerrier from TIREx executions"
   ]
  },
  {
   "cell_type": "code",
   "execution_count": 1,
   "metadata": {},
   "outputs": [
    {
     "name": "stderr",
     "output_type": "stream",
     "text": [
      "PyTerrier 0.9.2 has loaded Terrier 5.7 (built by craigm on 2022-11-10 18:30) and terrier-helper 0.0.7\n",
      "\n",
      "No etc/terrier.properties, using terrier.default.properties for bootstrap configuration.\n"
     ]
    }
   ],
   "source": [
    "from tira.local_client import Client\n",
    "import pyterrier as pt\n",
    "import pandas as pd\n",
    "\n",
    "if not pt.started():\n",
    "  pt.init()\n",
    "\n",
    "tira = Client()\n",
    "dataset = \"trec-robust-2004\"\n",
    "pt_dataset = pt.get_dataset(dataset)\n",
    "\n",
    "bce_5_keyphrase_extractor = tira.pt.transform_documents('ir-benchmarks/webis-keyphrase-extraction/BCExtractorFO-5', dataset)\n",
    "bm25 = tira.pt.from_retriever_submission(\"ir-benchmarks/tira-ir-starter/PyTerrierBM25\", dataset)\n",
    "bm25_score = pt.text.scorer(takes=\"docs\", body_attr=\"text\", wmodel=\"BM25\")\n",
    "bm25_retrieval = bm25 >> bm25_score"
   ]
  },
  {
   "cell_type": "code",
   "execution_count": 2,
   "metadata": {},
   "outputs": [
    {
     "data": {
      "text/html": [
       "<div>\n",
       "<style scoped>\n",
       "    .dataframe tbody tr th:only-of-type {\n",
       "        vertical-align: middle;\n",
       "    }\n",
       "\n",
       "    .dataframe tbody tr th {\n",
       "        vertical-align: top;\n",
       "    }\n",
       "\n",
       "    .dataframe thead th {\n",
       "        text-align: right;\n",
       "    }\n",
       "</style>\n",
       "<table border=\"1\" class=\"dataframe\">\n",
       "  <thead>\n",
       "    <tr style=\"text-align: right;\">\n",
       "      <th></th>\n",
       "      <th>qid</th>\n",
       "      <th>query</th>\n",
       "    </tr>\n",
       "  </thead>\n",
       "  <tbody>\n",
       "    <tr>\n",
       "      <th>0</th>\n",
       "      <td>301</td>\n",
       "      <td>international organized crime</td>\n",
       "    </tr>\n",
       "    <tr>\n",
       "      <th>1</th>\n",
       "      <td>302</td>\n",
       "      <td>poliomyelitis and post polio</td>\n",
       "    </tr>\n",
       "    <tr>\n",
       "      <th>2</th>\n",
       "      <td>303</td>\n",
       "      <td>hubble telescope achievements</td>\n",
       "    </tr>\n",
       "    <tr>\n",
       "      <th>3</th>\n",
       "      <td>304</td>\n",
       "      <td>endangered species mammals</td>\n",
       "    </tr>\n",
       "    <tr>\n",
       "      <th>4</th>\n",
       "      <td>305</td>\n",
       "      <td>most dangerous vehicles</td>\n",
       "    </tr>\n",
       "  </tbody>\n",
       "</table>\n",
       "</div>"
      ],
      "text/plain": [
       "   qid                          query\n",
       "0  301  international organized crime\n",
       "1  302   poliomyelitis and post polio\n",
       "2  303  hubble telescope achievements\n",
       "3  304     endangered species mammals\n",
       "4  305        most dangerous vehicles"
      ]
     },
     "execution_count": 2,
     "metadata": {},
     "output_type": "execute_result"
    }
   ],
   "source": [
    "dev_topics = pt_dataset.get_topics()\n",
    "dev_topics = dev_topics[dev_topics['qid'].astype(int) <= 305]\n",
    "dev_topics"
   ]
  },
  {
   "cell_type": "code",
   "execution_count": 3,
   "metadata": {},
   "outputs": [
    {
     "data": {
      "text/html": [
       "<div>\n",
       "<style scoped>\n",
       "    .dataframe tbody tr th:only-of-type {\n",
       "        vertical-align: middle;\n",
       "    }\n",
       "\n",
       "    .dataframe tbody tr th {\n",
       "        vertical-align: top;\n",
       "    }\n",
       "\n",
       "    .dataframe thead th {\n",
       "        text-align: right;\n",
       "    }\n",
       "</style>\n",
       "<table border=\"1\" class=\"dataframe\">\n",
       "  <thead>\n",
       "    <tr style=\"text-align: right;\">\n",
       "      <th></th>\n",
       "      <th>qid</th>\n",
       "      <th>query</th>\n",
       "      <th>text</th>\n",
       "      <th>keyphrases</th>\n",
       "    </tr>\n",
       "  </thead>\n",
       "  <tbody>\n",
       "    <tr>\n",
       "      <th>0</th>\n",
       "      <td>301</td>\n",
       "      <td>international organized crime</td>\n",
       "      <td>Text of Presidential Edict on Organized Crime ...</td>\n",
       "      <td>[aforementioned crimes, federation additional ...</td>\n",
       "    </tr>\n",
       "    <tr>\n",
       "      <th>1</th>\n",
       "      <td>301</td>\n",
       "      <td>international organized crime</td>\n",
       "      <td>Seminar on Criminology Held 1990-1993 Crime Fi...</td>\n",
       "      <td>[real state, further increase, public control,...</td>\n",
       "    </tr>\n",
       "    <tr>\n",
       "      <th>2</th>\n",
       "      <td>301</td>\n",
       "      <td>international organized crime</td>\n",
       "      <td>Freeh Visit To Focus on Organized Crime BFN\\n[...</td>\n",
       "      <td>[organized postcommunist crime, organized crim...</td>\n",
       "    </tr>\n",
       "    <tr>\n",
       "      <th>3</th>\n",
       "      <td>301</td>\n",
       "      <td>international organized crime</td>\n",
       "      <td>Government Ties to Organized Crime Examined CS...</td>\n",
       "      <td>[characteristic organized crime, organized cri...</td>\n",
       "    </tr>\n",
       "    <tr>\n",
       "      <th>4</th>\n",
       "      <td>301</td>\n",
       "      <td>international organized crime</td>\n",
       "      <td>North Caucasus Anticrime Chief Views Current T...</td>\n",
       "      <td>[territorial administrations, malbakhova crime...</td>\n",
       "    </tr>\n",
       "  </tbody>\n",
       "</table>\n",
       "</div>"
      ],
      "text/plain": [
       "   qid                          query  \\\n",
       "0  301  international organized crime   \n",
       "1  301  international organized crime   \n",
       "2  301  international organized crime   \n",
       "3  301  international organized crime   \n",
       "4  301  international organized crime   \n",
       "\n",
       "                                                text  \\\n",
       "0  Text of Presidential Edict on Organized Crime ...   \n",
       "1  Seminar on Criminology Held 1990-1993 Crime Fi...   \n",
       "2  Freeh Visit To Focus on Organized Crime BFN\\n[...   \n",
       "3  Government Ties to Organized Crime Examined CS...   \n",
       "4  North Caucasus Anticrime Chief Views Current T...   \n",
       "\n",
       "                                          keyphrases  \n",
       "0  [aforementioned crimes, federation additional ...  \n",
       "1  [real state, further increase, public control,...  \n",
       "2  [organized postcommunist crime, organized crim...  \n",
       "3  [characteristic organized crime, organized cri...  \n",
       "4  [territorial administrations, malbakhova crime...  "
      ]
     },
     "execution_count": 3,
     "metadata": {},
     "output_type": "execute_result"
    }
   ],
   "source": [
    "(bm25 >> bce_5_keyphrase_extractor)(dev_topics).head(5)[['qid', 'query', 'text', 'keyphrases']]"
   ]
  },
  {
   "cell_type": "code",
   "execution_count": 4,
   "metadata": {},
   "outputs": [],
   "source": [
    "def append_keyphrases(df):\n",
    "    df['text'] = df['text'] + df['keyphrases'].apply(lambda i: ' '.join(i))\n",
    "    return df\n",
    "\n",
    "append_keyphrases = pt.apply.generic(append_keyphrases)\n"
   ]
  },
  {
   "cell_type": "code",
   "execution_count": 5,
   "metadata": {},
   "outputs": [
    {
     "name": "stdout",
     "output_type": "stream",
     "text": [
      "10:10:43.640 [main] WARN org.terrier.querying.ApplyTermPipeline - The index has no termpipelines configuration, and no control configuration is found. Defaulting to global termpipelines configuration of 'Stopwords,PorterStemmer'. Set a termpipelines control to remove this warning.\n"
     ]
    },
    {
     "data": {
      "text/html": [
       "<div>\n",
       "<style scoped>\n",
       "    .dataframe tbody tr th:only-of-type {\n",
       "        vertical-align: middle;\n",
       "    }\n",
       "\n",
       "    .dataframe tbody tr th {\n",
       "        vertical-align: top;\n",
       "    }\n",
       "\n",
       "    .dataframe thead th {\n",
       "        text-align: right;\n",
       "    }\n",
       "</style>\n",
       "<table border=\"1\" class=\"dataframe\">\n",
       "  <thead>\n",
       "    <tr style=\"text-align: right;\">\n",
       "      <th></th>\n",
       "      <th>qid</th>\n",
       "      <th>query</th>\n",
       "      <th>text</th>\n",
       "      <th>score</th>\n",
       "      <th>rank</th>\n",
       "    </tr>\n",
       "  </thead>\n",
       "  <tbody>\n",
       "    <tr>\n",
       "      <th>0</th>\n",
       "      <td>301</td>\n",
       "      <td>international organized crime</td>\n",
       "      <td>Text of Presidential Edict on Organized Crime ...</td>\n",
       "      <td>8.279819</td>\n",
       "      <td>0</td>\n",
       "    </tr>\n",
       "    <tr>\n",
       "      <th>1</th>\n",
       "      <td>301</td>\n",
       "      <td>international organized crime</td>\n",
       "      <td>Seminar on Criminology Held 1990-1993 Crime Fi...</td>\n",
       "      <td>8.035928</td>\n",
       "      <td>5</td>\n",
       "    </tr>\n",
       "    <tr>\n",
       "      <th>2</th>\n",
       "      <td>301</td>\n",
       "      <td>international organized crime</td>\n",
       "      <td>Freeh Visit To Focus on Organized Crime BFN\\n[...</td>\n",
       "      <td>8.039895</td>\n",
       "      <td>4</td>\n",
       "    </tr>\n",
       "    <tr>\n",
       "      <th>3</th>\n",
       "      <td>301</td>\n",
       "      <td>international organized crime</td>\n",
       "      <td>Government Ties to Organized Crime Examined CS...</td>\n",
       "      <td>7.928720</td>\n",
       "      <td>8</td>\n",
       "    </tr>\n",
       "    <tr>\n",
       "      <th>4</th>\n",
       "      <td>301</td>\n",
       "      <td>international organized crime</td>\n",
       "      <td>North Caucasus Anticrime Chief Views Current T...</td>\n",
       "      <td>8.065075</td>\n",
       "      <td>2</td>\n",
       "    </tr>\n",
       "  </tbody>\n",
       "</table>\n",
       "</div>"
      ],
      "text/plain": [
       "   qid                          query  \\\n",
       "0  301  international organized crime   \n",
       "1  301  international organized crime   \n",
       "2  301  international organized crime   \n",
       "3  301  international organized crime   \n",
       "4  301  international organized crime   \n",
       "\n",
       "                                                text     score  rank  \n",
       "0  Text of Presidential Edict on Organized Crime ...  8.279819     0  \n",
       "1  Seminar on Criminology Held 1990-1993 Crime Fi...  8.035928     5  \n",
       "2  Freeh Visit To Focus on Organized Crime BFN\\n[...  8.039895     4  \n",
       "3  Government Ties to Organized Crime Examined CS...  7.928720     8  \n",
       "4  North Caucasus Anticrime Chief Views Current T...  8.065075     2  "
      ]
     },
     "execution_count": 5,
     "metadata": {},
     "output_type": "execute_result"
    }
   ],
   "source": [
    "bm_25_bce_5 = (bm25 >> bce_5_keyphrase_extractor >> append_keyphrases >> bm25_score)\n",
    "\n",
    "bm_25_bce_5(dev_topics).head(5)[['qid', 'query', 'text', 'score', 'rank']]"
   ]
  },
  {
   "cell_type": "code",
   "execution_count": 6,
   "metadata": {},
   "outputs": [
    {
     "name": "stdout",
     "output_type": "stream",
     "text": [
      "10:13:13.000 [main] WARN org.terrier.querying.ApplyTermPipeline - The index has no termpipelines configuration, and no control configuration is found. Defaulting to global termpipelines configuration of 'Stopwords,PorterStemmer'. Set a termpipelines control to remove this warning.\n",
      "10:15:09.554 [main] WARN org.terrier.querying.ApplyTermPipeline - The index has no termpipelines configuration, and no control configuration is found. Defaulting to global termpipelines configuration of 'Stopwords,PorterStemmer'. Set a termpipelines control to remove this warning.\n"
     ]
    },
    {
     "data": {
      "text/html": [
       "<div>\n",
       "<style scoped>\n",
       "    .dataframe tbody tr th:only-of-type {\n",
       "        vertical-align: middle;\n",
       "    }\n",
       "\n",
       "    .dataframe tbody tr th {\n",
       "        vertical-align: top;\n",
       "    }\n",
       "\n",
       "    .dataframe thead th {\n",
       "        text-align: right;\n",
       "    }\n",
       "</style>\n",
       "<table border=\"1\" class=\"dataframe\">\n",
       "  <thead>\n",
       "    <tr style=\"text-align: right;\">\n",
       "      <th></th>\n",
       "      <th>name</th>\n",
       "      <th>recip_rank</th>\n",
       "      <th>P_3</th>\n",
       "      <th>P_5</th>\n",
       "      <th>P_10</th>\n",
       "      <th>ndcg_cut_10</th>\n",
       "      <th>ndcg_cut_5</th>\n",
       "    </tr>\n",
       "  </thead>\n",
       "  <tbody>\n",
       "    <tr>\n",
       "      <th>0</th>\n",
       "      <td>BM25</td>\n",
       "      <td>0.654809</td>\n",
       "      <td>0.496653</td>\n",
       "      <td>0.465863</td>\n",
       "      <td>0.409237</td>\n",
       "      <td>0.421258</td>\n",
       "      <td>0.444258</td>\n",
       "    </tr>\n",
       "    <tr>\n",
       "      <th>1</th>\n",
       "      <td>BM25 &gt;&gt; BCE 5</td>\n",
       "      <td>0.657757</td>\n",
       "      <td>0.506024</td>\n",
       "      <td>0.471486</td>\n",
       "      <td>0.410442</td>\n",
       "      <td>0.424080</td>\n",
       "      <td>0.449429</td>\n",
       "    </tr>\n",
       "  </tbody>\n",
       "</table>\n",
       "</div>"
      ],
      "text/plain": [
       "            name  recip_rank       P_3       P_5      P_10  ndcg_cut_10  \\\n",
       "0           BM25    0.654809  0.496653  0.465863  0.409237     0.421258   \n",
       "1  BM25 >> BCE 5    0.657757  0.506024  0.471486  0.410442     0.424080   \n",
       "\n",
       "   ndcg_cut_5  \n",
       "0    0.444258  \n",
       "1    0.449429  "
      ]
     },
     "execution_count": 6,
     "metadata": {},
     "output_type": "execute_result"
    }
   ],
   "source": [
    "pt.Experiment([bm25_retrieval, bm_25_bce_5], pt_dataset.get_topics(), pt_dataset.get_qrels(), eval_metrics=[\"recip_rank\", \"P_3\", \"P_5\", \"P_10\", \"ndcg_cut_10\", \"ndcg_cut_5\"], names=['BM25', 'BM25 >> BCE 5'])"
   ]
  }
 ],
 "metadata": {
  "kernelspec": {
   "display_name": "base",
   "language": "python",
   "name": "python3"
  },
  "language_info": {
   "codemirror_mode": {
    "name": "ipython",
    "version": 3
   },
   "file_extension": ".py",
   "mimetype": "text/x-python",
   "name": "python",
   "nbconvert_exporter": "python",
   "pygments_lexer": "ipython3",
   "version": "3.7.13"
  },
  "orig_nbformat": 4
 },
 "nbformat": 4,
 "nbformat_minor": 2
}
